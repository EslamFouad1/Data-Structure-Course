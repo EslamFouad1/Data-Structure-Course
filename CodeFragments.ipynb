{
 "cells": [
  {
   "cell_type": "code",
   "execution_count": 1,
   "id": "d299e8cf",
   "metadata": {},
   "outputs": [],
   "source": [
    "class Employee:\n",
    "    #class variables.\n",
    "    company_name = \"Oden Company\"\n",
    "    \n",
    "    #constructor to initialise the object.\n",
    "    def __init__(self, name, salary):\n",
    "        #instance variables.\n",
    "        self.name = name\n",
    "        self.salary = salary\n",
    "    \n",
    "    #instance method.\n",
    "    def show(self):\n",
    "        print(\"Employee: \", self.name, self.salary, self.company_name)"
   ]
  },
  {
   "cell_type": "code",
   "execution_count": 2,
   "id": "b6ba97b8",
   "metadata": {},
   "outputs": [
    {
     "name": "stdout",
     "output_type": "stream",
     "text": [
      "Employee:  Sam 13000 Oden Company\n"
     ]
    }
   ],
   "source": [
    "Sam = Employee(\"Sam\", 13000)\n",
    "Sam.show()"
   ]
  },
  {
   "cell_type": "code",
   "execution_count": 8,
   "id": "ed993e72",
   "metadata": {},
   "outputs": [
    {
     "name": "stdout",
     "output_type": "stream",
     "text": [
      "Name is  Jessa and salary is 40000\n"
     ]
    }
   ],
   "source": [
    "class Employee:\n",
    "    def __init__(self, name, salary):\n",
    "        # public member\n",
    "        self.name = name\n",
    "        # private member\n",
    "        # not accessible outside of a class\n",
    "        self.__salary = salary\n",
    "\n",
    "    def show(self):\n",
    "        print(\"Name is \", self.name, \"and salary is\", self.__salary)\n",
    "\n",
    "emp = Employee(\"Jessa\", 40000)\n",
    "emp.show()"
   ]
  },
  {
   "cell_type": "code",
   "execution_count": 9,
   "id": "e9f8f179",
   "metadata": {},
   "outputs": [
    {
     "name": "stdout",
     "output_type": "stream",
     "text": [
      "Name is  Joshua and salary is 40000\n"
     ]
    }
   ],
   "source": [
    "Joshua = Employee(\"Joshua\", 40000)\n",
    "Joshua.show()"
   ]
  },
  {
   "cell_type": "code",
   "execution_count": 10,
   "id": "1e29b053",
   "metadata": {},
   "outputs": [
    {
     "ename": "AttributeError",
     "evalue": "'Employee' object has no attribute '__salary'",
     "output_type": "error",
     "traceback": [
      "\u001b[1;31m---------------------------------------------------------------------------\u001b[0m",
      "\u001b[1;31mAttributeError\u001b[0m                            Traceback (most recent call last)",
      "\u001b[1;32m~\\AppData\\Local\\Temp/ipykernel_9092/4172046228.py\u001b[0m in \u001b[0;36m<module>\u001b[1;34m\u001b[0m\n\u001b[1;32m----> 1\u001b[1;33m \u001b[0mJoshua\u001b[0m\u001b[1;33m.\u001b[0m\u001b[0m__salary\u001b[0m\u001b[1;33m\u001b[0m\u001b[1;33m\u001b[0m\u001b[0m\n\u001b[0m",
      "\u001b[1;31mAttributeError\u001b[0m: 'Employee' object has no attribute '__salary'"
     ]
    }
   ],
   "source": [
    "Joshua.__salary"
   ]
  },
  {
   "cell_type": "code",
   "execution_count": 12,
   "id": "32c15102",
   "metadata": {},
   "outputs": [],
   "source": [
    "class Circle:\n",
    "    pi = 3.14\n",
    "    \n",
    "    def __init__(self, radius):\n",
    "        self.radius = radius\n",
    "    \n",
    "    def calculate_area(self):\n",
    "        print(\"Area of a circle: \", self.pi * self.radius ** 2)\n",
    "\n",
    "class Rectangle:\n",
    "    def __init__(self, length, width):\n",
    "        self.length = length\n",
    "        self.width = width\n",
    "    \n",
    "    def calculate_area(self):\n",
    "        print(\"Area of Rectangle: \", self.length * self.width)\n",
    "        \n",
    "def area(shape):\n",
    "    shape.calculate_area()"
   ]
  },
  {
   "cell_type": "code",
   "execution_count": 13,
   "id": "d5cd744b",
   "metadata": {},
   "outputs": [],
   "source": [
    "cir = Circle(5)\n",
    "rect = Rectangle(10, 5)"
   ]
  },
  {
   "cell_type": "code",
   "execution_count": 14,
   "id": "dcd0ce2a",
   "metadata": {},
   "outputs": [
    {
     "name": "stdout",
     "output_type": "stream",
     "text": [
      "Area of a circle:  78.5\n"
     ]
    }
   ],
   "source": [
    "area(cir)"
   ]
  },
  {
   "cell_type": "code",
   "execution_count": 15,
   "id": "bd6e0915",
   "metadata": {},
   "outputs": [
    {
     "name": "stdout",
     "output_type": "stream",
     "text": [
      "Area of Rectangle:  50\n"
     ]
    }
   ],
   "source": [
    "area(rect)"
   ]
  },
  {
   "cell_type": "markdown",
   "id": "ebe07ad1",
   "metadata": {},
   "source": [
    "## Use of Inheritance in Python\n"
   ]
  },
  {
   "cell_type": "code",
   "execution_count": 16,
   "id": "81284bd3",
   "metadata": {},
   "outputs": [],
   "source": [
    "class Vehicle:\n",
    "    def __init__(self, name, color, price):\n",
    "        self.name = name\n",
    "        self.color = color\n",
    "        self.price = price\n",
    "    def info(self):\n",
    "        print(self.name, self.color, self.price)\n",
    "\n",
    "#Child class.\n",
    "class Car(Vehicle):\n",
    "    \n",
    "    def change_gear(self, no):\n",
    "        print(self.name, \"change gear to number\", no)"
   ]
  },
  {
   "cell_type": "code",
   "execution_count": 17,
   "id": "0b90d2d9",
   "metadata": {},
   "outputs": [
    {
     "name": "stdout",
     "output_type": "stream",
     "text": [
      "BMW X1 Black 35000\n"
     ]
    }
   ],
   "source": [
    "car = Car(\"BMW X1\", \"Black\", 35000)\n",
    "car.info()"
   ]
  },
  {
   "cell_type": "code",
   "execution_count": 18,
   "id": "e96d060b",
   "metadata": {},
   "outputs": [
    {
     "name": "stdout",
     "output_type": "stream",
     "text": [
      "BMW X1 change gear to number 5\n"
     ]
    }
   ],
   "source": [
    "car.change_gear(5)"
   ]
  },
  {
   "cell_type": "code",
   "execution_count": 19,
   "id": "d311bb97",
   "metadata": {},
   "outputs": [],
   "source": [
    "class Dog:\n",
    "    \n",
    "    #class attribute:\n",
    "    attr1 = \"mammal\"\n",
    "    \n",
    "    #Instance attributes\n",
    "    \n",
    "    def __init__(self, name):\n",
    "        self.name = name"
   ]
  },
  {
   "cell_type": "code",
   "execution_count": 20,
   "id": "fcd1aad8",
   "metadata": {},
   "outputs": [],
   "source": [
    "Rodger = Dog(\"Rodger\")\n",
    "Tommy = Dog(\"Tommy\")"
   ]
  },
  {
   "cell_type": "code",
   "execution_count": 21,
   "id": "bc887830",
   "metadata": {},
   "outputs": [
    {
     "name": "stdout",
     "output_type": "stream",
     "text": [
      "Rodger is a mammal\n",
      "Tommy is also a mammal\n"
     ]
    }
   ],
   "source": [
    "#Accessing class attributes:\n",
    "print(\"Rodger is a {}\".format(Rodger.__class__.attr1))\n",
    "print(\"Tommy is also a {}\".format(Tommy.__class__.attr1))"
   ]
  },
  {
   "cell_type": "code",
   "execution_count": 22,
   "id": "1dd9ec67",
   "metadata": {},
   "outputs": [
    {
     "name": "stdout",
     "output_type": "stream",
     "text": [
      "My name is Rodger\n",
      "My name is Tommy\n"
     ]
    }
   ],
   "source": [
    "#Accessing instance attributes:\n",
    "print(\"My name is {}\".format(Rodger.name))\n",
    "print(\"My name is {}\".format(Tommy.name))"
   ]
  },
  {
   "cell_type": "code",
   "execution_count": 23,
   "id": "975a4d74",
   "metadata": {},
   "outputs": [],
   "source": [
    "class Dog:\n",
    "    \n",
    "    #class attribute:\n",
    "    attr1 = \"mammal\"\n",
    "    \n",
    "    def __init__(self, name):\n",
    "        self.name = name\n",
    "    \n",
    "    def speak(self):\n",
    "        print(\"My name is {}\".format(self.name))"
   ]
  },
  {
   "cell_type": "code",
   "execution_count": 24,
   "id": "7b3611a3",
   "metadata": {},
   "outputs": [],
   "source": [
    "#Driver code.\n",
    "#Object instantiation.\n",
    "Rodger = Dog(\"Rodger\")\n",
    "Tommy = Dog(\"Tommy\")"
   ]
  },
  {
   "cell_type": "code",
   "execution_count": 25,
   "id": "49b4fe03",
   "metadata": {},
   "outputs": [
    {
     "name": "stdout",
     "output_type": "stream",
     "text": [
      "My name is Rodger\n"
     ]
    }
   ],
   "source": [
    "Rodger.speak()"
   ]
  },
  {
   "cell_type": "code",
   "execution_count": 26,
   "id": "917a5c4b",
   "metadata": {},
   "outputs": [
    {
     "name": "stdout",
     "output_type": "stream",
     "text": [
      "My name is Tommy\n"
     ]
    }
   ],
   "source": [
    "Tommy.speak()"
   ]
  },
  {
   "cell_type": "code",
   "execution_count": 40,
   "id": "a4fef758",
   "metadata": {},
   "outputs": [
    {
     "ename": "SyntaxError",
     "evalue": "invalid non-printable character U+00A0 (Temp/ipykernel_9092/793529597.py, line 2)",
     "output_type": "error",
     "traceback": [
      "\u001b[1;36m  File \u001b[1;32m\"C:\\Users\\pc\\AppData\\Local\\Temp/ipykernel_9092/793529597.py\"\u001b[1;36m, line \u001b[1;32m2\u001b[0m\n\u001b[1;33m    \u001b[0m\n\u001b[1;37m    ^\u001b[0m\n\u001b[1;31mSyntaxError\u001b[0m\u001b[1;31m:\u001b[0m invalid non-printable character U+00A0\n"
     ]
    }
   ],
   "source": [
    "class Person(object):\n",
    " \n",
    "    # __init__ is known as the constructor\n",
    "    def __init__(self, name, idnumber):\n",
    "        self.name = name\n",
    "        self.idnumber = idnumber\n",
    " \n",
    "    def display(self):\n",
    "        print(self.name)\n",
    "        print(self.idnumber)\n",
    "         \n",
    "    def details(self):\n",
    "        print(\"My name is {}\".format(self.name))\n",
    "        print(\"IdNumber: {}\".format(self.idnumber))\n",
    "        \n",
    "# child class\n",
    "class Employee(Person):\n",
    "    def __init__(self, name, idnumber, salary, post):\n",
    "        self.salary = salary\n",
    "        self.post = post\n",
    " \n",
    "        # invoking the __init__ of the parent class\n",
    "        Person.__init__(self, name, idnumber)\n",
    "         \n",
    "    def details(self):\n",
    "        print(\"My name is {}\".format(self.name))\n",
    "        print(\"IdNumber: {}\".format(self.idnumber))\n",
    "        print(\"Post: {}\".format(self.post))\n",
    " "
   ]
  },
  {
   "cell_type": "code",
   "execution_count": 41,
   "id": "92e6aad2",
   "metadata": {},
   "outputs": [],
   "source": [
    "Joshua = Employee(\"Joshua\", 2341, 200000, \"Intern\")"
   ]
  },
  {
   "cell_type": "code",
   "execution_count": 42,
   "id": "991c1458",
   "metadata": {},
   "outputs": [
    {
     "ename": "AttributeError",
     "evalue": "'Employee' object has no attribute 'name'",
     "output_type": "error",
     "traceback": [
      "\u001b[1;31m---------------------------------------------------------------------------\u001b[0m",
      "\u001b[1;31mAttributeError\u001b[0m                            Traceback (most recent call last)",
      "\u001b[1;32m~\\AppData\\Local\\Temp/ipykernel_9092/2918113083.py\u001b[0m in \u001b[0;36m<module>\u001b[1;34m\u001b[0m\n\u001b[1;32m----> 1\u001b[1;33m \u001b[0mJoshua\u001b[0m\u001b[1;33m.\u001b[0m\u001b[0mdetails\u001b[0m\u001b[1;33m(\u001b[0m\u001b[1;33m)\u001b[0m\u001b[1;33m\u001b[0m\u001b[1;33m\u001b[0m\u001b[0m\n\u001b[0m",
      "\u001b[1;32m~\\AppData\\Local\\Temp/ipykernel_9092/3779012832.py\u001b[0m in \u001b[0;36mdetails\u001b[1;34m(self)\u001b[0m\n\u001b[0;32m     24\u001b[0m \u001b[1;33m\u001b[0m\u001b[0m\n\u001b[0;32m     25\u001b[0m     \u001b[1;32mdef\u001b[0m \u001b[0mdetails\u001b[0m\u001b[1;33m(\u001b[0m\u001b[0mself\u001b[0m\u001b[1;33m)\u001b[0m\u001b[1;33m:\u001b[0m\u001b[1;33m\u001b[0m\u001b[1;33m\u001b[0m\u001b[0m\n\u001b[1;32m---> 26\u001b[1;33m         \u001b[0mprint\u001b[0m\u001b[1;33m(\u001b[0m\u001b[1;34m\"My name is {}\"\u001b[0m\u001b[1;33m.\u001b[0m\u001b[0mformat\u001b[0m\u001b[1;33m(\u001b[0m\u001b[0mself\u001b[0m\u001b[1;33m.\u001b[0m\u001b[0mname\u001b[0m\u001b[1;33m)\u001b[0m\u001b[1;33m)\u001b[0m\u001b[1;33m\u001b[0m\u001b[1;33m\u001b[0m\u001b[0m\n\u001b[0m\u001b[0;32m     27\u001b[0m         \u001b[0mprint\u001b[0m\u001b[1;33m(\u001b[0m\u001b[1;34m\"IdNumber: {}\"\u001b[0m\u001b[1;33m.\u001b[0m\u001b[0mformat\u001b[0m\u001b[1;33m(\u001b[0m\u001b[0mself\u001b[0m\u001b[1;33m.\u001b[0m\u001b[0midnumber\u001b[0m\u001b[1;33m)\u001b[0m\u001b[1;33m)\u001b[0m\u001b[1;33m\u001b[0m\u001b[1;33m\u001b[0m\u001b[0m\n\u001b[0;32m     28\u001b[0m         \u001b[0mprint\u001b[0m\u001b[1;33m(\u001b[0m\u001b[1;34m\"Post: {}\"\u001b[0m\u001b[1;33m.\u001b[0m\u001b[0mformat\u001b[0m\u001b[1;33m(\u001b[0m\u001b[0mself\u001b[0m\u001b[1;33m.\u001b[0m\u001b[0mpost\u001b[0m\u001b[1;33m)\u001b[0m\u001b[1;33m)\u001b[0m\u001b[1;33m\u001b[0m\u001b[1;33m\u001b[0m\u001b[0m\n",
      "\u001b[1;31mAttributeError\u001b[0m: 'Employee' object has no attribute 'name'"
     ]
    }
   ],
   "source": [
    "Joshua.details()"
   ]
  },
  {
   "cell_type": "code",
   "execution_count": 43,
   "id": "a2d958d6",
   "metadata": {},
   "outputs": [],
   "source": [
    "class Base:\n",
    "    \n",
    "    def __init__(self):\n",
    "        self.a = \"GeeksForGeeks\"\n",
    "        self.__c = \"GeeksForGeeks\"\n",
    "\n",
    "class Derived(Base):\n",
    "    def __init__(self):\n",
    "        Base.__init__(self)\n",
    "        print(\"Calling private number of base class.\")\n",
    "        print(self.__c)"
   ]
  },
  {
   "cell_type": "code",
   "execution_count": 45,
   "id": "fb19ee07",
   "metadata": {},
   "outputs": [
    {
     "data": {
      "text/plain": [
       "'GeeksForGeeks'"
      ]
     },
     "execution_count": 45,
     "metadata": {},
     "output_type": "execute_result"
    }
   ],
   "source": [
    "obj1 = Base()\n",
    "obj1.a"
   ]
  },
  {
   "cell_type": "code",
   "execution_count": null,
   "id": "823935fc",
   "metadata": {},
   "outputs": [],
   "source": []
  }
 ],
 "metadata": {
  "kernelspec": {
   "display_name": "Python 3 (ipykernel)",
   "language": "python",
   "name": "python3"
  },
  "language_info": {
   "codemirror_mode": {
    "name": "ipython",
    "version": 3
   },
   "file_extension": ".py",
   "mimetype": "text/x-python",
   "name": "python",
   "nbconvert_exporter": "python",
   "pygments_lexer": "ipython3",
   "version": "3.9.7"
  }
 },
 "nbformat": 4,
 "nbformat_minor": 5
}
