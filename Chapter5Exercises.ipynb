{
 "cells": [
  {
   "cell_type": "markdown",
   "id": "27ebd753",
   "metadata": {},
   "source": [
    "### Performing an experiment to compare the length of a Python list to its underlying memory usage. Determining the sequence of array sizes requires a manual inspection of the output of that program. Redesign the experiment so that the program outputs only those values of k at which the existing capacity is exhausted.\n",
    "\n",
    "#### For example, on a system consistent with the results of Code Fragment 5.2, your program should output that the sequence of array capacities are 0, 4, 8, 16, 25, ...."
   ]
  },
  {
   "cell_type": "code",
   "execution_count": 10,
   "id": "57ea79e0",
   "metadata": {},
   "outputs": [
    {
     "name": "stdout",
     "output_type": "stream",
     "text": [
      "Length:   0; Size in bytes:   56\n",
      "Length:   1; Size in bytes:   88\n",
      "Length:   2; Size in bytes:   88\n",
      "Length:   3; Size in bytes:   88\n",
      "Length:   4; Size in bytes:   88\n",
      "Length:   5; Size in bytes:  120\n",
      "Length:   6; Size in bytes:  120\n",
      "Length:   7; Size in bytes:  120\n",
      "Length:   8; Size in bytes:  120\n",
      "Length:   9; Size in bytes:  184\n",
      "Length:  10; Size in bytes:  184\n",
      "Length:  11; Size in bytes:  184\n",
      "Length:  12; Size in bytes:  184\n",
      "Length:  13; Size in bytes:  184\n",
      "Length:  14; Size in bytes:  184\n",
      "Length:  15; Size in bytes:  184\n",
      "Length:  16; Size in bytes:  184\n",
      "Length:  17; Size in bytes:  248\n",
      "Length:  18; Size in bytes:  248\n",
      "Length:  19; Size in bytes:  248\n",
      "Length:  20; Size in bytes:  248\n",
      "Length:  21; Size in bytes:  248\n",
      "Length:  22; Size in bytes:  248\n",
      "Length:  23; Size in bytes:  248\n",
      "Length:  24; Size in bytes:  248\n",
      "Length:  25; Size in bytes:  312\n",
      "Length:  26; Size in bytes:  312\n",
      "Length:  27; Size in bytes:  312\n",
      "Length:  28; Size in bytes:  312\n",
      "Length:  29; Size in bytes:  312\n",
      "Length:  30; Size in bytes:  312\n",
      "Length:  31; Size in bytes:  312\n",
      "Length:  32; Size in bytes:  312\n",
      "Length:  33; Size in bytes:  376\n",
      "Length:  34; Size in bytes:  376\n",
      "Length:  35; Size in bytes:  376\n",
      "Length:  36; Size in bytes:  376\n",
      "Length:  37; Size in bytes:  376\n",
      "Length:  38; Size in bytes:  376\n",
      "Length:  39; Size in bytes:  376\n"
     ]
    }
   ],
   "source": [
    "#Code Fragment 5.1: An experiment to explore the relationship between a list's length and its underlying size in Python.\n",
    "\n",
    "import sys      #Provides getsize of function.\n",
    "data = []\n",
    "for k in range(40):      #NOTE: must fix choice of n.\n",
    "    a = len(data)       #number of elements.\n",
    "    b = sys.getsizeof(data)    #Actual size in bytes.\n",
    "    print(\"Length: {0:3d}; Size in bytes: {1:4d}\".format(a, b))\n",
    "    data.append(None)      #Increase lenth by one"
   ]
  },
  {
   "cell_type": "code",
   "execution_count": 9,
   "id": "a073252a",
   "metadata": {},
   "outputs": [
    {
     "name": "stdout",
     "output_type": "stream",
     "text": [
      "Capacity reached at:  0\n",
      "Capacity reached at:  4\n",
      "Capacity reached at:  8\n",
      "Capacity reached at:  16\n",
      "Capacity reached at:  24\n",
      "Capacity reached at:  32\n"
     ]
    }
   ],
   "source": [
    "data = []\n",
    "for k in range(40):\n",
    "    oldsize = sys.getsizeof(data)\n",
    "    data.append(None)\n",
    "    if sys.getsizeof(data) != oldsize:\n",
    "        print(\"Capacity reached at: \", len(data) - 1)\n",
    "    oldsize = sys.getsizeof(data)"
   ]
  },
  {
   "cell_type": "code",
   "execution_count": 12,
   "id": "fc2cd7ee",
   "metadata": {},
   "outputs": [
    {
     "name": "stdout",
     "output_type": "stream",
     "text": [
      "Capacity reached at:  0\n",
      "Capacity reached at:  4\n",
      "Capacity reached at:  8\n",
      "Capacity reached at:  16\n",
      "Capacity reached at:  24\n",
      "Capacity reached at:  32\n",
      "Capacity reached at:  40\n",
      "Capacity reached at:  52\n",
      "Capacity reached at:  64\n",
      "Capacity reached at:  76\n",
      "Capacity reached at:  92\n",
      "Capacity reached at:  108\n",
      "Capacity reached at:  128\n",
      "Capacity reached at:  148\n",
      "Capacity reached at:  172\n",
      "Capacity reached at:  200\n",
      "Capacity reached at:  232\n",
      "Capacity reached at:  268\n",
      "Capacity reached at:  308\n",
      "Capacity reached at:  352\n",
      "Capacity reached at:  400\n",
      "Capacity reached at:  456\n"
     ]
    }
   ],
   "source": [
    "data = []\n",
    "for k in range(500):\n",
    "    oldsize = sys.getsizeof(data)\n",
    "    data.append(None)\n",
    "    if sys.getsizeof(data) != oldsize:\n",
    "        print(\"Capacity reached at: \", len(data) - 1)\n",
    "    oldsize = sys.getsizeof(data)"
   ]
  },
  {
   "cell_type": "code",
   "execution_count": 16,
   "id": "04889369",
   "metadata": {},
   "outputs": [],
   "source": [
    "import ctypes\n",
    "\n",
    "class DynamicArray:\n",
    "    \"\"\"A dynamic array class akin to a simplified Python list.\"\"\"\n",
    "    \n",
    "    def __init__(self):\n",
    "        \"\"\"Create an empty array.\"\"\"\n",
    "        self._n = 0        #Count actual elements.\n",
    "        self._capacity = 1   #Default array capacity.\n",
    "        self._A = self._make_array(self._capacity)    #Low-level entry.\n",
    "        \n",
    "    def __len__(self):\n",
    "        \"\"\"Return number of elements stored in the array.\"\"\"\n",
    "        return self._n\n",
    "    \n",
    "    \n",
    "    def __getitem__(self, k):\n",
    "        if k < 0 :            #Adjustment for negative index.\n",
    "            k += self._n\n",
    "        if not 0 <= k < self._n:\n",
    "            raise IndexError(\"Invalid index.\")\n",
    "        return self._A[k]    #Retrieve from array.\n",
    "            \n",
    "            \n",
    "    def append(self, obj):\n",
    "        \"\"\"Add object to end of the array.\"\"\"\n",
    "        if self._n == self._capacity:     #Not enough room.\n",
    "            self._resize(2 * self._capacity)   #So double capacity\n",
    "        self._A[self._n] = obj\n",
    "        self._n += 1\n",
    "        \n",
    "    def _resize(self, c):     #Nonpublic utility.\n",
    "        \"\"\"Resize internal array to capacity c.\"\"\"\n",
    "        B = self._make_array(c)    # new (bigger) array.\n",
    "        for k in range(self._n):   #For each existing value.\n",
    "            B[k] = self._A[k]\n",
    "        self._A = B               #Use the bigger array\n",
    "        self._capacity = c\n",
    "        \n",
    "    def _make_array(self, c):    #Nonpublic utility.\n",
    "        \"\"\"Return new array with capacity c.\"\"\"\n",
    "        return(c * ctypes.py_object)()    #see ctypes documentation."
   ]
  },
  {
   "cell_type": "code",
   "execution_count": null,
   "id": "d201d1d6",
   "metadata": {},
   "outputs": [],
   "source": []
  }
 ],
 "metadata": {
  "kernelspec": {
   "display_name": "Python 3 (ipykernel)",
   "language": "python",
   "name": "python3"
  },
  "language_info": {
   "codemirror_mode": {
    "name": "ipython",
    "version": 3
   },
   "file_extension": ".py",
   "mimetype": "text/x-python",
   "name": "python",
   "nbconvert_exporter": "python",
   "pygments_lexer": "ipython3",
   "version": "3.9.7"
  }
 },
 "nbformat": 4,
 "nbformat_minor": 5
}
