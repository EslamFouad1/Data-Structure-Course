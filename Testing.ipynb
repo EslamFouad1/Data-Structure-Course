{
 "cells": [
  {
   "cell_type": "code",
   "execution_count": 12,
   "id": "b2653918",
   "metadata": {},
   "outputs": [],
   "source": [
    "class CreditCard():\n",
    "    def __init__(self, customer, bank, acnt, limit):\n",
    "        self._customer = customer\n",
    "        self._bank = bank\n",
    "        self._account = acnt\n",
    "        self._limit = limit\n",
    "        self._balance = 0\n",
    "        \n",
    "    def get_customer(self):\n",
    "        return self._customer\n",
    "    def get_bank(self):\n",
    "        return self._bank\n",
    "    def get_account(self):\n",
    "        return self._account\n",
    "    def get_limit(self):\n",
    "        return self._limit\n",
    "    def get_balance(self):\n",
    "        return self._balance\n",
    "    def charge(self, price):\n",
    "        if price + self._balance > self._limit:\n",
    "            return False\n",
    "        else:\n",
    "            self._balance += price\n",
    "    def make_payment(self, amount):\n",
    "        self._balance -= amount"
   ]
  },
  {
   "cell_type": "code",
   "execution_count": 13,
   "id": "2cd977ca",
   "metadata": {},
   "outputs": [
    {
     "data": {
      "text/plain": [
       "'Sam Fouad'"
      ]
     },
     "execution_count": 13,
     "metadata": {},
     "output_type": "execute_result"
    }
   ],
   "source": [
    "first = CreditCard(\"Sam Fouad\", \"Ahly Bank\", \"9284 3289 3243\", \"2134\")\n",
    "first._customer"
   ]
  },
  {
   "cell_type": "code",
   "execution_count": 14,
   "id": "fd230c98",
   "metadata": {},
   "outputs": [
    {
     "data": {
      "text/plain": [
       "0"
      ]
     },
     "execution_count": 14,
     "metadata": {},
     "output_type": "execute_result"
    }
   ],
   "source": [
    "first._balance"
   ]
  },
  {
   "cell_type": "code",
   "execution_count": 9,
   "id": "5444100c",
   "metadata": {},
   "outputs": [
    {
     "data": {
      "text/plain": [
       "'2134'"
      ]
     },
     "execution_count": 9,
     "metadata": {},
     "output_type": "execute_result"
    }
   ],
   "source": [
    "first._limit"
   ]
  },
  {
   "cell_type": "code",
   "execution_count": 21,
   "id": "7bd47e77",
   "metadata": {},
   "outputs": [
    {
     "name": "stdout",
     "output_type": "stream",
     "text": [
      "Customer = Joshua\n",
      "Bank = CIB\n",
      "Account = 2134 2342 3245\n",
      "Limit = 2324\n",
      "Balance = 136\n",
      "New Balance = 36\n",
      "\n",
      "Customer = Kevin\n",
      "Bank = Ahly Bank\n",
      "Account = 2132 3421 3241\n",
      "Limit = 4355\n",
      "Balance = 272\n",
      "New Balance = 172\n",
      "New Balance = 72\n",
      "\n",
      "Customer = Achmed Kemal\n",
      "Bank = HSBC\n",
      "Account = 2345 1234 5233\n",
      "Limit = 2345\n",
      "Balance = 408\n",
      "New Balance = 308\n",
      "New Balance = 208\n",
      "New Balance = 108\n",
      "New Balance = 8\n",
      "\n"
     ]
    }
   ],
   "source": [
    "if __name__ == \"__main__\":\n",
    "    wallet = []\n",
    "    wallet.append(CreditCard(\"Joshua\", \"CIB\", \"2134 2342 3245\", 2324))\n",
    "    wallet.append(CreditCard(\"Kevin\", \"Ahly Bank\", \"2132 3421 3241\", 4355))\n",
    "    wallet.append(CreditCard(\"Achmed Kemal\", \"HSBC\", \"2345 1234 5233\", 2345))\n",
    "    \n",
    "    for val in range(1, 17):\n",
    "        wallet[0].charge(val)\n",
    "        wallet[1].charge(2 * val)\n",
    "        wallet[2].charge(3 * val)\n",
    "    \n",
    "    for c in range(3):\n",
    "        print(\"Customer =\", wallet[c].get_customer())\n",
    "        print(\"Bank =\", wallet[c].get_bank())\n",
    "        print(\"Account =\", wallet[c].get_account())\n",
    "        print(\"Limit =\", wallet[c].get_limit())\n",
    "        print(\"Balance =\", wallet[c].get_balance())\n",
    "        while wallet[c].get_balance() > 100:\n",
    "            wallet[c].make_payment(100)\n",
    "            print(\"New Balance =\", wallet[c].get_balance())\n",
    "        print()"
   ]
  },
  {
   "cell_type": "code",
   "execution_count": 23,
   "id": "18e3cec0",
   "metadata": {},
   "outputs": [],
   "source": [
    "class Vector:\n",
    "    def __init__(self, d):\n",
    "        self._coords = [0] * d\n",
    "    \n",
    "    def __len__(self):\n",
    "        return self._coords\n",
    "    def __getitem__(self, j):\n",
    "        return self._coords[j]\n",
    "    def __setitem__(self, j, val):\n",
    "        self._coords[j] = val\n",
    "    def __add__(self, other):\n",
    "        if len(self) != len(other):\n",
    "            raise ValueError(\"Unequal dimensions.\")\n",
    "        result = Vector(len(self))\n",
    "        for j in range(len(self)):\n",
    "            result[j] = self[j] + other[j]\n",
    "        return result\n",
    "    def __eq__(self, other):\n",
    "        return self._coords == other_coords\n",
    "    \n",
    "    def __ne__(self, other):\n",
    "        return not self == other\n",
    "    \n",
    "    def __str__(self):\n",
    "        return '<' + str(self._coords)[1:-1] + '>'"
   ]
  },
  {
   "cell_type": "code",
   "execution_count": 36,
   "id": "f3c0c44e",
   "metadata": {},
   "outputs": [
    {
     "ename": "TypeError",
     "evalue": "can't multiply sequence by non-int of type 'list'",
     "output_type": "error",
     "traceback": [
      "\u001b[1;31m---------------------------------------------------------------------------\u001b[0m",
      "\u001b[1;31mTypeError\u001b[0m                                 Traceback (most recent call last)",
      "\u001b[1;32m~\\AppData\\Local\\Temp/ipykernel_11076/1010674575.py\u001b[0m in \u001b[0;36m<module>\u001b[1;34m\u001b[0m\n\u001b[0;32m      1\u001b[0m \u001b[0mx\u001b[0m \u001b[1;33m=\u001b[0m \u001b[0mVector\u001b[0m\u001b[1;33m(\u001b[0m\u001b[1;36m5\u001b[0m\u001b[1;33m)\u001b[0m\u001b[1;33m\u001b[0m\u001b[1;33m\u001b[0m\u001b[0m\n\u001b[1;32m----> 2\u001b[1;33m \u001b[0mu\u001b[0m \u001b[1;33m=\u001b[0m \u001b[0mx\u001b[0m \u001b[1;33m+\u001b[0m \u001b[0mVector\u001b[0m\u001b[1;33m(\u001b[0m\u001b[1;33m[\u001b[0m\u001b[1;36m2\u001b[0m\u001b[1;33m,\u001b[0m \u001b[1;36m4\u001b[0m\u001b[1;33m,\u001b[0m \u001b[1;36m5\u001b[0m\u001b[1;33m,\u001b[0m \u001b[1;36m7\u001b[0m\u001b[1;33m,\u001b[0m \u001b[1;36m1\u001b[0m\u001b[1;33m]\u001b[0m\u001b[1;33m)\u001b[0m\u001b[1;33m\u001b[0m\u001b[1;33m\u001b[0m\u001b[0m\n\u001b[0m",
      "\u001b[1;32m~\\AppData\\Local\\Temp/ipykernel_11076/56464719.py\u001b[0m in \u001b[0;36m__init__\u001b[1;34m(self, d)\u001b[0m\n\u001b[0;32m      1\u001b[0m \u001b[1;32mclass\u001b[0m \u001b[0mVector\u001b[0m\u001b[1;33m:\u001b[0m\u001b[1;33m\u001b[0m\u001b[1;33m\u001b[0m\u001b[0m\n\u001b[0;32m      2\u001b[0m     \u001b[1;32mdef\u001b[0m \u001b[0m__init__\u001b[0m\u001b[1;33m(\u001b[0m\u001b[0mself\u001b[0m\u001b[1;33m,\u001b[0m \u001b[0md\u001b[0m\u001b[1;33m)\u001b[0m\u001b[1;33m:\u001b[0m\u001b[1;33m\u001b[0m\u001b[1;33m\u001b[0m\u001b[0m\n\u001b[1;32m----> 3\u001b[1;33m         \u001b[0mself\u001b[0m\u001b[1;33m.\u001b[0m\u001b[0m_coords\u001b[0m \u001b[1;33m=\u001b[0m \u001b[1;33m[\u001b[0m\u001b[1;36m0\u001b[0m\u001b[1;33m]\u001b[0m \u001b[1;33m*\u001b[0m \u001b[0md\u001b[0m\u001b[1;33m\u001b[0m\u001b[1;33m\u001b[0m\u001b[0m\n\u001b[0m\u001b[0;32m      4\u001b[0m \u001b[1;33m\u001b[0m\u001b[0m\n\u001b[0;32m      5\u001b[0m     \u001b[1;32mdef\u001b[0m \u001b[0m__len__\u001b[0m\u001b[1;33m(\u001b[0m\u001b[0mself\u001b[0m\u001b[1;33m)\u001b[0m\u001b[1;33m:\u001b[0m\u001b[1;33m\u001b[0m\u001b[1;33m\u001b[0m\u001b[0m\n",
      "\u001b[1;31mTypeError\u001b[0m: can't multiply sequence by non-int of type 'list'"
     ]
    }
   ],
   "source": [
    "x = Vector(5)\n",
    "u = x + Vector([2, 4, 5, 7, 1])"
   ]
  },
  {
   "cell_type": "code",
   "execution_count": 37,
   "id": "2018eaa9",
   "metadata": {},
   "outputs": [],
   "source": [
    "class SequenceIterator():\n",
    "    def __init__(self, sequence):\n",
    "        self._seq = sequence\n",
    "        self._k = -1\n",
    "        \n",
    "    def __next__(self):\n",
    "        self._k += 1\n",
    "        if self._k < len(self._seq):\n",
    "            return(self._seq[self._k])\n",
    "        else:\n",
    "            raise StopIteration()\n",
    "        \n",
    "    def __iter__(self):\n",
    "        return self"
   ]
  },
  {
   "cell_type": "code",
   "execution_count": null,
   "id": "ebfbe514",
   "metadata": {},
   "outputs": [],
   "source": []
  }
 ],
 "metadata": {
  "kernelspec": {
   "display_name": "Python 3 (ipykernel)",
   "language": "python",
   "name": "python3"
  },
  "language_info": {
   "codemirror_mode": {
    "name": "ipython",
    "version": 3
   },
   "file_extension": ".py",
   "mimetype": "text/x-python",
   "name": "python",
   "nbconvert_exporter": "python",
   "pygments_lexer": "ipython3",
   "version": "3.9.7"
  }
 },
 "nbformat": 4,
 "nbformat_minor": 5
}
