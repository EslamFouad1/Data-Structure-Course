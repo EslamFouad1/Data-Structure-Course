{
 "cells": [
  {
   "cell_type": "markdown",
   "id": "df50c0d7",
   "metadata": {},
   "source": [
    "## Proposition:\n",
    "#### Let S be a sequence implemented by means of a dynamic array with initial capacity one, using the strategy of doubling the array size when full. The total time to perform a series of n append operations in S, starting from S being empty, is O(n)."
   ]
  },
  {
   "cell_type": "code",
   "execution_count": 2,
   "id": "410ce6f0",
   "metadata": {},
   "outputs": [],
   "source": [
    "import ctypes\n",
    "\n",
    "class DynamicArray:\n",
    "    \"\"\"A dynamic array class akin to a simplified Python list.\"\"\"\n",
    "    \n",
    "    def __init__(self):\n",
    "        \"\"\"Create an empty array.\"\"\"\n",
    "        self._n = 0        #Count actual elements.\n",
    "        self._capacity = 1   #Default array capacity.\n",
    "        self._A = self._make_array(self._capacity)    #Low-level entry.\n",
    "        \n",
    "    def __len__(self):\n",
    "        \"\"\"Return number of elements stored in the array.\"\"\"\n",
    "        return self._n\n",
    "    \n",
    "    def __getitem__(self, k):\n",
    "        \"\"\"Return element at index k.\"\"\"\n",
    "        if not 0 <= k < self._n:\n",
    "            raise IndexError(\"Invalid index.\")\n",
    "        return self._A[k]    #Retrieve from an array.\n",
    "    \n",
    "    def append(self, obj):\n",
    "        \"\"\"Add object to end of the array.\"\"\"\n",
    "        if self._n == self._capacity:     #Not enough room.\n",
    "            self._resize(2 * self._capacity)   #So double capacity\n",
    "        self._A[self._n] = obj\n",
    "        self._n += 1\n",
    "        \n",
    "    def _resize(self, c):     #Nonpublic utility.\n",
    "        \"\"\"Resize internal array to capacity c.\"\"\"\n",
    "        B = self._make_array(c)    # new (bigger) array.\n",
    "        for k in range(self._n):   #For each existing value.\n",
    "            B[k] = self._A[k]\n",
    "        self._A = B               #Use the bigger array\n",
    "        self._capacity = c\n",
    "        \n",
    "    def _make_array(self, c):    #Nonpublic utility.\n",
    "        \"\"\"Return new array with capacity c.\"\"\"\n",
    "        return(c * ctypes.py_object)()    #see ctypes documentation."
   ]
  },
  {
   "cell_type": "markdown",
   "id": "e8b55319",
   "metadata": {},
   "source": [
    "### We can get a more accurate measure of the amortized cost per operation by performing a series of \"n\" append operations on an initially empty list and determining the \"average\" cost of each. A function to perform that experiment is given in:"
   ]
  },
  {
   "cell_type": "code",
   "execution_count": 5,
   "id": "45dbc347",
   "metadata": {},
   "outputs": [],
   "source": [
    "\"\"\"Measuring the amortized cost of append for Python's list class:\"\"\"\n",
    "\n",
    "from time import time     #import time function from time module.\n",
    "def computer_average(n):\n",
    "    \"\"\"Perform n appends to an empty list and return avg.time elapsed\"\"\"\n",
    "    data = []\n",
    "    start = time()     #Record the start time (in seconds.)\n",
    "    for k in range(n):\n",
    "        data.append(None)\n",
    "    end = time()       #Record the end time (in seconds.)\n",
    "    return (end - start) / n      #Compute average per operation"
   ]
  },
  {
   "cell_type": "markdown",
   "id": "b4b7cfbc",
   "metadata": {},
   "source": [
    "### Implementation of insert for our DynamicArray class:"
   ]
  },
  {
   "cell_type": "code",
   "execution_count": 6,
   "id": "0774d4d0",
   "metadata": {},
   "outputs": [],
   "source": [
    "def insert(self, k, value):\n",
    "    \"\"\"Insert value at index k, shifting subsequent values rightward.\"\"\"\n",
    "    #(For simplicity, we assume 0 <= k <= n in this version.)\n",
    "    if self._n == self._capacity:    #not enough room.\n",
    "        self._resize(2 * self._capacity)    #so double the capacity.\n",
    "        for j in range(self._n, k, -1):      #shift rightmost first.\n",
    "            self._A[j] = self._A[j-1]\n",
    "        self._A[k] = value             #store newest element.\n",
    "        self._n += 1"
   ]
  },
  {
   "cell_type": "markdown",
   "id": "ac18c1b1",
   "metadata": {},
   "source": [
    "### Implementation of remove for our DynamicArray Class."
   ]
  },
  {
   "cell_type": "code",
   "execution_count": 7,
   "id": "ce347d26",
   "metadata": {},
   "outputs": [],
   "source": [
    "def remove(self, value):\n",
    "    \"\"\"Remove first occurrence of value (or raise ValueError)\"\"\"\n",
    "    #Note: we don't consider shrinking the DynamicArray in this version.\n",
    "    for k in range(self._n):\n",
    "        if self._A[k] == value:        #found a match!\n",
    "            for j in range(k, self._n -1):     #shift others to fill gap\n",
    "                self._A[j] = self.A[j+1]\n",
    "            self.A[self._n - 1] = None     #help garbage collection\n",
    "            self._n -= 1        #we have one less item.\n",
    "            return              #exit immediately.\n",
    "    raise ValueError(\"Value not found.\")        #only reached if no match."
   ]
  },
  {
   "cell_type": "markdown",
   "id": "34a50047",
   "metadata": {},
   "source": [
    "### A complete Python class for the Caesar cipher."
   ]
  },
  {
   "cell_type": "code",
   "execution_count": 10,
   "id": "1b140cbb",
   "metadata": {},
   "outputs": [],
   "source": [
    "class CaesarCipher:\n",
    "    \"\"\"Class for doing encryption and decryption using a Caesar cipher.\"\"\"\n",
    "    def __init__(self, shift):\n",
    "        \"\"\"Construct Caesar cipher using given integer shift for rotation.\"\"\"\n",
    "        encoder = [None] * 26    #temp array for encryption.\n",
    "        decoder = [None] * 26    #temp array for decryption.\n",
    "        \n",
    "        for k in range(26):\n",
    "            encoder[k] = chr((k + shift) % 26 + ord('A'))\n",
    "            decoder[k] = chr((k - shift) % 26 + ord('A'))\n",
    "        self._forward = ''.join(encoder)   #will store as string.\n",
    "        self._backward = ''.join(decoder)  #since fixed.\n",
    "        \n",
    "    def encrypt(self, message):\n",
    "        \"\"\"Return string representing encripted message.\"\"\"\n",
    "        return self._transform(message, self._forward)\n",
    "    \n",
    "    def decrypt(self, secret):\n",
    "        \"\"\"Return decrypted message given encrypted secret.\"\"\"\n",
    "        return self._transform(secret, self._backward)\n",
    "    \n",
    "    def _transform(self, original, code):\n",
    "        \"\"\"Utility to perform transformation based on given code string.\"\"\"\n",
    "        msg = list(original)\n",
    "        for k in range(len(msg)):\n",
    "            if msg[k].isupper():\n",
    "                j = ord(msg[k]) - ord('A')       #index from 0 to 25.\n",
    "                msg[k] = code[j]\n",
    "        return ''.join(msg)"
   ]
  },
  {
   "cell_type": "code",
   "execution_count": 11,
   "id": "1e8052dd",
   "metadata": {},
   "outputs": [
    {
     "name": "stdout",
     "output_type": "stream",
     "text": [
      "Secret:  WKH HDJOH LV LQ SODB; PHW DW MRH'V.\n",
      "Message:  THE EAGLE IS IN PLAY; MET AT JOE'S.\n"
     ]
    }
   ],
   "source": [
    "if __name__ == \"__main__\":\n",
    "    cipher = CaesarCipher(3)\n",
    "    message = \"THE EAGLE IS IN PLAY; MET AT JOE'S.\"\n",
    "    coded = cipher.encrypt(message)\n",
    "    print(\"Secret: \", coded)\n",
    "    answer = cipher.decrypt(coded)\n",
    "    print(\"Message: \", answer)"
   ]
  },
  {
   "cell_type": "markdown",
   "id": "f572726d",
   "metadata": {},
   "source": [
    "### A complete Python class for managing a Tic-Tac-Toe game."
   ]
  },
  {
   "cell_type": "code",
   "execution_count": 14,
   "id": "9b7d19d9",
   "metadata": {},
   "outputs": [],
   "source": [
    "class TicTacToe:\n",
    "    \"\"\"Management of a Tic-Tac-Toe game (doesn't do strategy.)\"\"\"\n",
    "    \n",
    "    def __init__(self):\n",
    "        \"\"\"Start a new game.\"\"\"\n",
    "        self._board = [[' '] * 3 for j in range(3)]\n",
    "        self.player = 'X'\n",
    "        \n",
    "    def mark(self, i, j):\n",
    "        \"\"\"Put an X or O mark at position (i,j) for next player's turn.\"\"\"\n",
    "        if not (0 <= i <= 2 and 0 <= j <= 2):\n",
    "            raise ValueError(\"Invalid board positio.n\")\n",
    "        if self.board[i][j] != ' ':\n",
    "            raise ValueError(\"Board position occupied.\")\n",
    "        if self.winner() is not None:\n",
    "            raise ValueError(\"Game is already complete.\")\n",
    "        self._board[i][j] = self._player\n",
    "        if self._player == 'X':\n",
    "            self._player = 'O'\n",
    "        else:\n",
    "            self._player = 'X'\n",
    "            \n",
    "    def _is_win(self, mark):\n",
    "        \"\"\"Check whether the borad configuration is a win for the given player.\"\"\"\n",
    "        board = self._board     #local variable for shorthand\n",
    "        return (mark == board[0][0] == board[0][1] == board[0][2] or #row 0\n",
    "                mark == board[1][0] == board[1][1] == board[1][2] or #row 1\n",
    "                mark == board[2][0] == board[2][1] == board[2][2] or #row 2\n",
    "                mark == board[0][0] == board[1][0] == board[2][0] or #column 0\n",
    "                mark == board[0][1] == board[1][1] == board[2][1] or #column 1\n",
    "                mark == board[0][2] == board[1][2] == board[2][2] or #column 2\n",
    "                mark == board[0][0] == board[1][1] == board[2][2] or #diagonal\n",
    "                mark == board[0][2] == board[1][1] == board[2][0]    #rev diagonal.\n",
    "               )\n",
    "    \n",
    "    def winner(self):\n",
    "        \"\"\"Return mark winning player, or None to indicate a tie.\"\"\"\n",
    "        for mark in \"XO\":\n",
    "            if self._is_win(mark):\n",
    "                return mark\n",
    "        return None\n",
    "    \n",
    "    def __str__(self):\n",
    "        \"\"\"Return string representation of current game board.\"\"\"\n",
    "        rows = ['|'.join(self._board[r]) for r in range(3)]\n",
    "        return \"\\n ------- \\n\".join(rows)"
   ]
  },
  {
   "cell_type": "code",
   "execution_count": null,
   "id": "b2a5a164",
   "metadata": {},
   "outputs": [],
   "source": []
  }
 ],
 "metadata": {
  "kernelspec": {
   "display_name": "Python 3 (ipykernel)",
   "language": "python",
   "name": "python3"
  },
  "language_info": {
   "codemirror_mode": {
    "name": "ipython",
    "version": 3
   },
   "file_extension": ".py",
   "mimetype": "text/x-python",
   "name": "python",
   "nbconvert_exporter": "python",
   "pygments_lexer": "ipython3",
   "version": "3.9.7"
  }
 },
 "nbformat": 4,
 "nbformat_minor": 5
}
